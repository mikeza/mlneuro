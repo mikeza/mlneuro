{
  "cells": [
    {
      "cell_type": "code",
      "execution_count": null,
      "metadata": {
        "collapsed": false
      },
      "outputs": [],
      "source": [
        "%matplotlib inline"
      ]
    },
    {
      "cell_type": "markdown",
      "metadata": {},
      "source": [
        "\n# Clusterless decoding with multisignal kde pipeline\n\n\nA pipeline with min-max scaling and BivariateKDE is used to estimate the probability\nof the stimulus given each spike of multisignal data. \n\n\nPreprocessing\n------------\n1. Unlabeled (noise) spikes are dropped\n2. Xs, ys, and Ts are divided into training and test sets\n\nEstimation\n---------\n1. The stimulus data is binned so the cross-validation fits the same bins each fold\n2. A pipeline is made with a min-max scaler and KDE\n3. The pipeline is wrapped with a Multisignal meta-estimator and filter for reducing the signals\n3. A cross-validation object is built which will use the training mask and allow multisignal cross-validation\n4. Probabilties are estimated per-spike across the bin grid\n5. The probabilities are filtered at a regular interval by the multisignal estimator\n\nPlotting\n--------\nThe bin grid and argmax is used to calculate the highest likelihood position at each\ntime.\n\n"
      ]
    },
    {
      "cell_type": "code",
      "execution_count": null,
      "metadata": {
        "collapsed": false
      },
      "outputs": [],
      "source": [
        "import numpy as np\nimport matplotlib.pyplot as plt\n\nfrom sklearn.preprocessing import MinMaxScaler\nfrom sklearn.pipeline import make_pipeline\n\nfrom mlneuro.regression import BivariateKernelDensity\nfrom mlneuro.multisignal import MultisignalEstimator, train_test_split_multisignal, multi_to_single_signal\nfrom mlneuro.preprocessing.signals import remove_unlabeled_spikes\nfrom mlneuro.filtering import filter_at, TemporalSmoothedFilter\nfrom mlneuro.common.bins import bin_edges_from_data\nfrom mlneuro.utils.visuals import n_subplot_grid\nfrom mlneuro.utils.io import load_array_dict\n\n# Options\n\n# Temporal resolution to filter at, in seconds\nRESOLUTION = 0.1               \n# Number of stimulus bins per dimension\nSTIMULUS_BINS = 24\n# Number of cross-validation folds\nN_FOLDS = 3\n# Plot the maximum predicted value in each dimension                     \nDISPLAY_PLOTS = True\n# The time range to show in the plot (None for auto)\n# default is a small range for example plots in documentation            \nPLOT_X_RANGE = [1200,1400]\n# Save the prediction results to a file for later use\n# e.g. example_results.mat \nSAVE_TO_FILE = None \n# Use a GPU for the KDE?\nGPU = False\n\n# Load data\nfrom mlneuro.datasets import load_restaurant_row\ndata = load_restaurant_row()\n\nTs = data['signal_times']\nXs = data['signal_marks']\nys = data['signal_stimulus']\n\n# Remove bad spikes\nTs, _, (Xs, ys) = remove_unlabeled_spikes(Ts, data['signal_cellids'], Xs, ys)\n\n# Calculate bin edges independent of signal\n# so they are the same for all estimators\nybin_edges, ybin_counts = bin_edges_from_data(data['full_stimulus'], 32)\n\n# Construct a basic pipeline\npipeline =  MultisignalEstimator(\n                make_pipeline(MinMaxScaler(),\n                              BivariateKernelDensity(bandwidth_X=0.15, bandwidth_y=15, ybins=ybin_edges)\n                ),\n                filt=TemporalSmoothedFilter(bandwidth_T=0.75, std_deviation=5),\n                pickle_estimators=True\n            )\n\n# Split the data in non-overlapping sets\n# Notice, if the test size is 0.1, the train size is 0.9 by default but \n#   we force the training size smaller here for speed\nXs_train, Xs_test, Ts_train, Ts_test, ys_train, ys_test = train_test_split_multisignal(Xs, Ts, ys, test_size=0.1, train_size=0.5, shuffle=False)\n\n# Fit, predict, filter\npipeline.fit(Xs_train, ys_train)\nT_filt, (y_proba_filt, y_test_filt) = pipeline.predict_proba(Xs_test, ys_test, Ts=Ts_test, filter_times=RESOLUTION)\n\n# Normalize to a probability distribution\ny_pred /= np.sum(y_pred, axis=1)[:, np.newaxis]\n\n# Grab the grid from the first estimator to get the maximum estimate position quickly\nybin_grid = pipeline[0].steps[-1][1].ybin_grid\ny_predicted_filt = ybin_grid[np.argmax(y_proba_filt, axis=1)]\n\n\n# Output\n\nif DISPLAY_PLOTS:\n    fig, axes = n_subplot_grid(y_predicted_filt.shape[1], max_horizontal=1)\n    for dim, ax in enumerate(axes):\n        ax.plot(T_filt, y_test_filt[:, dim])\n        ax.plot(T_filt, y_predicted_filt[:, dim])\n        if PLOT_X_RANGE is not None: ax.set_xlim(PLOT_X_RANGE)\n        ax.set_title('ys test (blue) vs predicted (orange) dim={}'.format(dim))\n\n    fig.show()\n\nif SAVE_TO_FILE is not None:\n    pass"
      ]
    }
  ],
  "metadata": {
    "kernelspec": {
      "display_name": "Python 3",
      "language": "python",
      "name": "python3"
    },
    "language_info": {
      "codemirror_mode": {
        "name": "ipython",
        "version": 3
      },
      "file_extension": ".py",
      "mimetype": "text/x-python",
      "name": "python",
      "nbconvert_exporter": "python",
      "pygments_lexer": "ipython3",
      "version": "3.6.6"
    }
  },
  "nbformat": 4,
  "nbformat_minor": 0
}