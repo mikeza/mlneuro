{
  "cells": [
    {
      "cell_type": "code",
      "execution_count": null,
      "metadata": {
        "collapsed": false
      },
      "outputs": [],
      "source": [
        "%matplotlib inline"
      ]
    },
    {
      "cell_type": "markdown",
      "metadata": {},
      "source": [
        "Placeholder docstring\n\n"
      ]
    },
    {
      "cell_type": "code",
      "execution_count": null,
      "metadata": {
        "collapsed": false
      },
      "outputs": [],
      "source": [
        "import numpy as np\nimport matplotlib.pyplot as plt\n\nfrom keras.optimizers import Adam\n\nfrom sklearn.preprocessing import StandardScaler, MinMaxScaler\nfrom sklearn.pipeline import make_pipeline\nfrom sklearn.model_selection import train_test_split\nfrom sklearn.feature_selection import f_regression, SelectKBest\n\nfrom mlneuro.multisignal import multi_to_single_signal\nfrom mlneuro.regression import DenseNNBinnedRegressor, DenseNNRegressor\nfrom mlneuro.preprocessing.signals import limit_time_range, remove_unlabeled_spikes, spike_stimulus\nfrom mlneuro.preprocessing.stimulus import smooth_stimulus, stimulus_gradient_mask\nfrom mlneuro.filtering import filter_at, TemporalSmoothedFilter\nfrom mlneuro.common.bins import bin_edges_from_data, bin_centers_from_edges, linearized_bin_grid\nfrom mlneuro.utils.visuals import n_subplot_grid\nfrom mlneuro.utils.io import load_array_dict\nfrom mlneuro.crossvalidation import generate_crossvalidator\n\n# Options\n\nRESOLUTION = None                # Temporal resolution to filter at, in seconds\nWHICH_SIGNAL = 6\nDISPLAY_PLOTS = True            # Plot the maximum predicted value in each dimension\nSAVE_TO_FILE = None # 'example_test'     # A file to export the results to\nGPU = False\nSTIMULUS_BINS = 24\nSTART_TIME = 0\nEND_TIME = np.inf\nINCLUDE_UNCLUSTERED = False\n\n# Load data\nfrom mlneuro.datasets import load_restaurant_row\ndata = load_restaurant_row()\n\nT = data['signal_times'][WHICH_SIGNAL]\nX = data['signal_marks'][WHICH_SIGNAL]\ny = data['signal_stimulus'][WHICH_SIGNAL]\n\nidxs_keep = np.logical_and(T > START_TIME, T < END_TIME)\nif not INCLUDE_UNCLUSTERED:\n    idxs_keep = np.logical_and(idxs_keep, data['signal_cellids'][WHICH_SIGNAL] != 0)\nidxs_keep =np.logical_and(idxs_keep, stimulus_gradient_mask(T, y, min_g=10))\n\nT = T[idxs_keep]\nX = X[idxs_keep, :][:, [0,1,2,3]]\ny = y[idxs_keep, :]\n\npipeline = make_pipeline(StandardScaler(),\n                         DenseNNBinnedRegressor(units=[400,200], num_epochs=25, dropout=0.22, ybins=STIMULUS_BINS, optimizer='adam', verbose=1))\n\nX_train, X_test, T_train, T_test, y_train, y_test = train_test_split(X, T, y, test_size=0.25)\n\npipeline.fit(X_train, y_train, densennbinnedregressor__validation_split=0.15)\ny_pred = pipeline.predict_proba(X_test)\n\n# Already single signal but this will sort the arrays quickly\nT_test, (y_pred, y_test) = multi_to_single_signal([T_test], [y_pred], [y_test])\n\n# Filter the results if asked\nif RESOLUTION is not None:\n    filt = TemporalSmoothedFilter(bandwidth_T=2.5*RESOLUTION, std_deviation=10, n_jobs=4)\n    T_test, (y_pred, y_test) = filter_at(filt, RESOLUTION, T_test, y_pred, y_test)\n\n# Normalize to a probability distribution\ny_pred /= np.sum(y_pred, axis=1)[:, np.newaxis]\n\nnn = pipeline.steps[-1][1]\nybin_grid = nn.ybin_grid\ny_predicted = ybin_grid[np.argmax(y_pred, axis=1)]\n\nif DISPLAY_PLOTS:\n    fig, axes = n_subplot_grid(y_predicted.shape[1], max_horizontal=1)\n    for dim, ax in enumerate(axes):\n        ax.plot(T_test, y_test[:, dim])\n        ax.plot(T_test, y_predicted[:, dim])\n        ax.set_title('y test (blue) vs predicted (orange) dim={}'.format(dim))\n\n    fig.show()\n\n    plt.figure()\n    plt.plot(nn.model.model.history.history['loss'])\n    plt.plot(nn.model.model.history.history['val_loss'])\n    plt.title('model train vs validation loss')\n    plt.ylabel('loss')\n    plt.xlabel('epoch')\n    plt.legend(['train', 'validation'], loc='upper right')\n    plt.show()\n\nif SAVE_TO_FILE is not None:\n    from mlneuro.utils.io import save_array_dict\n    save_array_dict(SAVE_TO_FILE, \n        {'times': T_test, 'estimates': y_pred.reshape(-1, STIMULUS_BINS, STIMULUS_BINS), 'max_estimate': y_predicted, 'bin_centers': ybin_centers, 'test_stimulus': y_test},\n        save_type='mat')"
      ]
    }
  ],
  "metadata": {
    "kernelspec": {
      "display_name": "Python 3",
      "language": "python",
      "name": "python3"
    },
    "language_info": {
      "codemirror_mode": {
        "name": "ipython",
        "version": 3
      },
      "file_extension": ".py",
      "mimetype": "text/x-python",
      "name": "python",
      "nbconvert_exporter": "python",
      "pygments_lexer": "ipython3",
      "version": "3.6.6"
    }
  },
  "nbformat": 4,
  "nbformat_minor": 0
}